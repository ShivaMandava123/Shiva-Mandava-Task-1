{
  "cells": [
    {
      "cell_type": "markdown",
      "metadata": {
        "id": "view-in-github",
        "colab_type": "text"
      },
      "source": [
        "<a href=\"https://colab.research.google.com/github/ShivaMandava123/Shiva-Mandava-Task-1/blob/main/copy_of_assessment2b.ipynb\" target=\"_parent\"><img src=\"https://colab.research.google.com/assets/colab-badge.svg\" alt=\"Open In Colab\"/></a>"
      ]
    },
    {
      "cell_type": "markdown",
      "metadata": {
        "id": "-j-Km-NDjUia"
      },
      "source": [
        "###### Assessment"
      ]
    },
    {
      "cell_type": "markdown",
      "metadata": {
        "id": "By7Om1PSjUif"
      },
      "source": [
        "###### I am going to provide two .csv files , you are supposed to work on them and have to provide solutions to the following problems"
      ]
    },
    {
      "cell_type": "markdown",
      "metadata": {
        "id": "IxjmYvXijUif"
      },
      "source": [
        "###### import necessary libraries"
      ]
    },
    {
      "cell_type": "code",
      "execution_count": null,
      "metadata": {
        "id": "hd2gjwjGjUig",
        "outputId": "bf57df5d-b907-48fb-def9-a818435d1704",
        "colab": {
          "base_uri": "https://localhost:8080/"
        }
      },
      "outputs": [
        {
          "output_type": "execute_result",
          "data": {
            "text/plain": [
              "(38, 26, 9, 3, 79, 36)"
            ]
          },
          "metadata": {},
          "execution_count": 29
        }
      ],
      "source": [
        "38,26,9,3,79,36"
      ]
    },
    {
      "cell_type": "markdown",
      "metadata": {
        "id": "rabnVJtJjUig"
      },
      "source": [
        "###### merge those two csv files (after getting as dataframes, get them as a single dataframe)"
      ]
    },
    {
      "cell_type": "code",
      "execution_count": null,
      "metadata": {
        "id": "26O-oCXljUih",
        "outputId": "2975c70d-bc6f-4ef7-b340-df002194bdea",
        "colab": {
          "base_uri": "https://localhost:8080/"
        }
      },
      "outputs": [
        {
          "output_type": "stream",
          "name": "stdout",
          "text": [
            "<function merge at 0x7fb146df38b0>\n"
          ]
        }
      ],
      "source": [
        "import pandas as pd\n",
        "  \n",
        "# reading two csv files\n",
        "  \n",
        "# using merge function by setting how='inner'\n",
        "output1 = pd.merge\n",
        "# displaying result\n",
        "print(output1)"
      ]
    },
    {
      "cell_type": "markdown",
      "metadata": {
        "id": "qYyCOPf9jUih"
      },
      "source": [
        "###### Take each csv file , split that csv file into multiple categories (example csv files are added in the repo) \n"
      ]
    },
    {
      "cell_type": "markdown",
      "metadata": {
        "id": "p8HGdensjUii"
      },
      "source": [
        "###### consider if the codekata score exceeds 15000 points(present week) then make a csv on those observations as Exceeded expectations.csv\n"
      ]
    },
    {
      "cell_type": "markdown",
      "metadata": {
        "id": "MfVWG9bZjUii"
      },
      "source": [
        "###### if  10000<codekata score<15000   (Reached_expectations.csv)\n",
        "\n"
      ]
    },
    {
      "cell_type": "markdown",
      "metadata": {
        "id": "ofAr3A0KjUij"
      },
      "source": [
        "###### if  7000<codekata score<10000   (Needs_Improvement.csv)\n"
      ]
    },
    {
      "cell_type": "markdown",
      "metadata": {
        "id": "_DeqkTo4jUij"
      },
      "source": [
        "###### if  codekate score < 7000        (Unsatisfactory.csv)"
      ]
    },
    {
      "cell_type": "code",
      "execution_count": null,
      "metadata": {
        "id": "f_Ejmo4CjUij",
        "outputId": "411dcdef-c80b-421a-c0bf-e1eadfcce737",
        "colab": {
          "base_uri": "https://localhost:8080/"
        }
      },
      "outputs": [
        {
          "output_type": "stream",
          "name": "stdout",
          "text": [
            "   CustomerID  Gender  Age  Annual Income(k$)  Spending Score\n",
            "0           1    Male   20                 10              30\n",
            "1           2  Female   21                 20              50\n",
            "2           3  Female   19                 30              48\n",
            "3           4    Male   18                 10              84\n",
            "4           5    Male   25                 25              90\n",
            "5           6  Female   26                 60              65\n",
            "6           7    Male   32                 70              32\n",
            "7           8    Male   41                 15              46\n",
            "8           9  Female   20                 21              12\n",
            "9          10    Male   19                 22              56\n"
          ]
        }
      ],
      "source": [
        "import pandas as pd\n",
        " \n",
        "# initialise data dictionary.\n",
        "data_dict = {'CustomerID': [1, 2, 3, 4, 5, 6, 7, 8, 9, 10],\n",
        "              \n",
        "             'Gender': [\"Male\", \"Female\", \"Female\", \"Male\",\n",
        "                        \"Male\", \"Female\", \"Male\", \"Male\",\n",
        "                        \"Female\", \"Male\"],\n",
        "              \n",
        "             'Age': [20, 21, 19, 18, 25, 26, 32, 41, 20, 19],\n",
        "              \n",
        "             'Annual Income(k$)': [10, 20, 30, 10, 25, 60, 70,\n",
        "                                   15, 21, 22],\n",
        "              \n",
        "             'Spending Score': [30, 50, 48, 84, 90, 65, 32, 46,\n",
        "                                12, 56]}\n",
        " \n",
        "# Create DataFrame\n",
        "data = pd.DataFrame(data_dict)\n",
        " \n",
        "# Write to CSV file\n",
        "data.to_csv(\"Customers.csv\")\n",
        " \n",
        "# Print the output.\n",
        "print(data)"
      ]
    },
    {
      "cell_type": "markdown",
      "metadata": {
        "id": "6rIDR0u0jUik"
      },
      "source": [
        "###### Average of previous week geekions vs this week geekions (i.e Previous Geekions vs CodeKata Score)"
      ]
    },
    {
      "cell_type": "code",
      "execution_count": null,
      "metadata": {
        "id": "yy51XsjjjUik",
        "outputId": "60de56d1-3c89-4fe4-dc81-ae72032e60bf",
        "colab": {
          "base_uri": "https://localhost:8080/"
        }
      },
      "outputs": [
        {
          "output_type": "execute_result",
          "data": {
            "text/plain": [
              "0"
            ]
          },
          "metadata": {},
          "execution_count": 35
        }
      ],
      "source": [
        "num = 100\n",
        "if num >= 0:format(num)\n",
        "elif num ==0:\n",
        "  print(\"You entered ZERO\")\n",
        "else:\n",
        "  print(\"{} is Negative number\".format(num))\n",
        "\n",
        "\n",
        "0\n",
        " "
      ]
    },
    {
      "cell_type": "markdown",
      "metadata": {
        "id": "9OK3pxjZjUik"
      },
      "source": [
        "###### No of students participated "
      ]
    },
    {
      "cell_type": "code",
      "execution_count": null,
      "metadata": {
        "id": "7lzuc-qMjUik",
        "colab": {
          "base_uri": "https://localhost:8080/"
        },
        "outputId": "6bbdbd8b-68ec-4f6a-95aa-99e55698eef0"
      },
      "outputs": [
        {
          "output_type": "execute_result",
          "data": {
            "text/plain": [
              "430.0"
            ]
          },
          "metadata": {},
          "execution_count": 3
        }
      ],
      "source": [
        "\n",
        "(28+23+17+27+14+12+8+13+6+17+9+15+64+55+46+76)\n",
        "430."
      ]
    },
    {
      "cell_type": "markdown",
      "metadata": {
        "id": "sZv85WyIjUik"
      },
      "source": [
        "\n",
        "\n",
        "```\n",
        "# This is formatted as code\n",
        "```\n",
        "\n",
        "###### #Average completion of python course or my_sql or python english or computational thinking"
      ]
    },
    {
      "cell_type": "code",
      "execution_count": null,
      "metadata": {
        "id": "gttvnM7TjUik",
        "colab": {
          "base_uri": "https://localhost:8080/"
        },
        "outputId": "1396d528-afe7-4323-bb2a-10b273d2b12a"
      },
      "outputs": [
        {
          "output_type": "stream",
          "name": "stdout",
          "text": [
            "Initial String: \n",
            "GeeksForGeeks\n",
            "\n",
            "First character of String is: \n",
            "G\n",
            "\n",
            "Last character of String is: \n",
            "s\n"
          ]
        }
      ],
      "source": [
        "# Python Program to Access\n",
        "# characters of String\n",
        "\n",
        "String1 = \"GeeksForGeeks\"\n",
        "print(\"Initial String: \")\n",
        "print(String1)\n",
        "\n",
        "# Printing First character\n",
        "print(\"\\nFirst character of String is: \")\n",
        "print(String1[0])\n",
        "\n",
        "# Printing Last character\n",
        "print(\"\\nLast character of String is: \")\n",
        "print(String1[-1])\n"
      ]
    },
    {
      "cell_type": "markdown",
      "metadata": {
        "id": "RPjGtWMDjUil"
      },
      "source": [
        "###### rising star of the week (top 3 candidate who performed well in that particular week)"
      ]
    },
    {
      "cell_type": "code",
      "execution_count": null,
      "metadata": {
        "id": "AK4huuHBjUil",
        "colab": {
          "base_uri": "https://localhost:8080/"
        },
        "outputId": "28f48ba2-a98e-4fc5-fb42-a20bdb7fe369"
      },
      "outputs": [
        {
          "output_type": "stream",
          "name": "stdout",
          "text": [
            "2023-01-07 13:42:16.155288\n",
            "13:42:16.157034\n"
          ]
        }
      ],
      "source": [
        "import datetime\n",
        "\n",
        "# Print date and time\n",
        "print(datetime.datetime.now())\n",
        "\n",
        "# only time\n",
        "print(datetime.datetime.now().time())"
      ]
    },
    {
      "cell_type": "markdown",
      "metadata": {
        "id": "6t2KWUoDjUil"
      },
      "source": [
        "*italicized text Shining stars of the week (top 3 candidates who has highest geekions)"
      ]
    },
    {
      "cell_type": "code",
      "execution_count": null,
      "metadata": {
        "id": "nHOqqzHqjUil",
        "colab": {
          "base_uri": "https://localhost:8080/",
          "height": 130
        },
        "outputId": "b5af7910-7ecc-40ea-f953-33a5081debb4"
      },
      "outputs": [
        {
          "output_type": "error",
          "ename": "SyntaxError",
          "evalue": "ignored",
          "traceback": [
            "\u001b[0;36m  File \u001b[0;32m\"<ipython-input-18-04badbb6907a>\"\u001b[0;36m, line \u001b[0;32m1\u001b[0m\n\u001b[0;31m    <!DOCTYPE html>\u001b[0m\n\u001b[0m    ^\u001b[0m\n\u001b[0;31mSyntaxError\u001b[0m\u001b[0;31m:\u001b[0m invalid syntax\n"
          ]
        }
      ],
      "source": []
    },
    {
      "cell_type": "markdown",
      "metadata": {
        "id": "L6gc4vB1jUil"
      },
      "source": [
        "###### Department wise codekata performence (pie chart)"
      ]
    },
    {
      "cell_type": "code",
      "execution_count": null,
      "metadata": {
        "id": "OnmSCa-DjUil",
        "colab": {
          "base_uri": "https://localhost:8080/",
          "height": 411
        },
        "outputId": "491ef0b1-54ee-4c83-abab-848267b9a97f"
      },
      "outputs": [
        {
          "output_type": "display_data",
          "data": {
            "text/plain": [
              "<Figure size 720x504 with 1 Axes>"
            ],
            "image/png": "[encoded data removed]"
          },
          "metadata": {}
        }
      ],
      "source": [
        "# Import libraries\n",
        "from matplotlib import pyplot as plt\n",
        "import numpy as np\n",
        "\n",
        "\n",
        "# Creating dataset\n",
        "cars = ['AUDI', 'BMW', 'FORD',\n",
        "\t\t'TESLA', 'JAGUAR', 'MERCEDES']\n",
        "\n",
        "data = [23, 17, 35, 29, 12, 41]\n",
        "\n",
        "# Creating plot\n",
        "fig = plt.figure(figsize =(10, 7))\n",
        "plt.pie(data, labels = cars)\n",
        "\n",
        "# show plot\n",
        "plt.show()\n"
      ]
    },
    {
      "cell_type": "markdown",
      "metadata": {
        "id": "GG8GrCCRjUil"
      },
      "source": [
        "###### Department wise toppers (horizantal bar graph or any visual representations of your choice)"
      ]
    },
    {
      "cell_type": "code",
      "execution_count": null,
      "metadata": {
        "id": "40fXbt2ujUil",
        "colab": {
          "base_uri": "https://localhost:8080/",
          "height": 312
        },
        "outputId": "3c8555fd-c402-4bda-fbff-dd473519d56b"
      },
      "outputs": [
        {
          "output_type": "execute_result",
          "data": {
            "text/plain": [
              "<function matplotlib.pyplot.show(*args, **kw)>"
            ]
          },
          "metadata": {},
          "execution_count": 12
        },
        {
          "output_type": "display_data",
          "data": {
            "text/plain": [
              "<Figure size 432x288 with 1 Axes>"
            ],
            "image/png": "[encoded data removed]"
          },
          "metadata": {
            "needs_background": "light"
          }
        }
      ],
      "source": [
        "\n",
        "import matplotlib.pyplot as plt\n",
        " \n",
        "x=['one', 'two', 'three', 'four', 'five']\n",
        " \n",
        "# giving the values against\n",
        "# each value at x axis\n",
        "y=[5, 24, 35, 67, 12]\n",
        "plt.bar(x, y)\n",
        " \n",
        "# setting x-label as pen sold\n",
        "plt.xlabel(\"pen sold\")\n",
        " \n",
        "# setting y_label as price\n",
        "plt.ylabel(\"price\")  \n",
        "plt.title(\" Vertical bar graph\")\n",
        "plt.show"
      ]
    }
  ],
  "metadata": {
    "kernelspec": {
      "display_name": "Python 3",
      "language": "python",
      "name": "python3"
    },
    "language_info": {
      "codemirror_mode": {
        "name": "ipython",
        "version": 3
      },
      "file_extension": ".py",
      "mimetype": "text/x-python",
      "name": "python",
      "nbconvert_exporter": "python",
      "pygments_lexer": "ipython3",
      "version": "3.8.3"
    },
    "colab": {
      "provenance": [],
      "include_colab_link": true
    }
  },
  "nbformat": 4,
  "nbformat_minor": 0
}